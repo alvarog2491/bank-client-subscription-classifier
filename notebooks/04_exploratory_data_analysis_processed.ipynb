{
 "cells": [
  {
   "cell_type": "code",
   "execution_count": 1,
   "id": "b8d0f5df",
   "metadata": {},
   "outputs": [],
   "source": [
    "# Imports\n",
    "import pandas as pd\n",
    "import numpy as np\n",
    "import matplotlib.pyplot as plt\n",
    "import seaborn as sns\n",
    "import sklearn"
   ]
  },
  {
   "cell_type": "code",
   "execution_count": 3,
   "id": "0a0d8038",
   "metadata": {},
   "outputs": [
    {
     "name": "stdout",
     "output_type": "stream",
     "text": [
      "Training set: (750000, 18)\n",
      "Test set: (250000, 17)\n",
      "<class 'pandas.core.frame.DataFrame'>\n",
      "RangeIndex: 750000 entries, 0 to 749999\n",
      "Data columns (total 18 columns):\n",
      " #   Column     Non-Null Count   Dtype\n",
      "---  ------     --------------   -----\n",
      " 0   id         750000 non-null  int64\n",
      " 1   age        750000 non-null  int64\n",
      " 2   job        750000 non-null  int64\n",
      " 3   marital    750000 non-null  int64\n",
      " 4   education  750000 non-null  int64\n",
      " 5   default    750000 non-null  int64\n",
      " 6   balance    750000 non-null  int64\n",
      " 7   housing    750000 non-null  int64\n",
      " 8   loan       750000 non-null  int64\n",
      " 9   contact    750000 non-null  int64\n",
      " 10  day        750000 non-null  int64\n",
      " 11  month      750000 non-null  int64\n",
      " 12  duration   750000 non-null  int64\n",
      " 13  campaign   750000 non-null  int64\n",
      " 14  pdays      750000 non-null  int64\n",
      " 15  previous   750000 non-null  int64\n",
      " 16  poutcome   750000 non-null  int64\n",
      " 17  y          750000 non-null  int64\n",
      "dtypes: int64(18)\n",
      "memory usage: 103.0 MB\n",
      "Training set: None\n",
      "<class 'pandas.core.frame.DataFrame'>\n",
      "RangeIndex: 250000 entries, 0 to 249999\n",
      "Data columns (total 17 columns):\n",
      " #   Column     Non-Null Count   Dtype\n",
      "---  ------     --------------   -----\n",
      " 0   id         250000 non-null  int64\n",
      " 1   age        250000 non-null  int64\n",
      " 2   job        250000 non-null  int64\n",
      " 3   marital    250000 non-null  int64\n",
      " 4   education  250000 non-null  int64\n",
      " 5   default    250000 non-null  int64\n",
      " 6   balance    250000 non-null  int64\n",
      " 7   housing    250000 non-null  int64\n",
      " 8   loan       250000 non-null  int64\n",
      " 9   contact    250000 non-null  int64\n",
      " 10  day        250000 non-null  int64\n",
      " 11  month      250000 non-null  int64\n",
      " 12  duration   250000 non-null  int64\n",
      " 13  campaign   250000 non-null  int64\n",
      " 14  pdays      250000 non-null  int64\n",
      " 15  previous   250000 non-null  int64\n",
      " 16  poutcome   250000 non-null  int64\n",
      "dtypes: int64(17)\n",
      "memory usage: 32.4 MB\n",
      "Test set: None\n"
     ]
    }
   ],
   "source": [
    "# Setup and data loading\n",
    "plt.style.use('seaborn-v0_8')\n",
    "sns.set_palette(\"Set3\")\n",
    "pd.set_option('display.max_columns', None)\n",
    "\n",
    "train_df = pd.read_csv('../data/processed/train_processed.csv')\n",
    "test_df = pd.read_csv('../data/processed/test_processed.csv')\n",
    "\n",
    "print(f\"Training set: {train_df.shape}\")\n",
    "print(f\"Test set: {test_df.shape}\")\n",
    "\n",
    "print(f\"Training set: {train_df.info()}\")\n",
    "print(f\"Test set: {test_df.info()}\")"
   ]
  }
 ],
 "metadata": {
  "kernelspec": {
   "display_name": ".venv",
   "language": "python",
   "name": "python3"
  },
  "language_info": {
   "codemirror_mode": {
    "name": "ipython",
    "version": 3
   },
   "file_extension": ".py",
   "mimetype": "text/x-python",
   "name": "python",
   "nbconvert_exporter": "python",
   "pygments_lexer": "ipython3",
   "version": "3.13.5"
  }
 },
 "nbformat": 4,
 "nbformat_minor": 5
}
