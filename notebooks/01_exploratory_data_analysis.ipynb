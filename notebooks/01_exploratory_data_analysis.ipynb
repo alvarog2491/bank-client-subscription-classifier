{
 "cells": [
  {
   "cell_type": "markdown",
   "metadata": {},
   "source": [
    "# Exploratory Data Analysis - Bank Marketing Dataset\n",
    "\n",
    "Initial exploration of the bank marketing dataset for the Kaggle competition."
   ]
  },
  {
   "cell_type": "markdown",
   "metadata": {},
   "source": [
    "## Data Loading and Initial Inspection"
   ]
  },
  {
   "cell_type": "code",
   "execution_count": 28,
   "metadata": {},
   "outputs": [],
   "source": [
    "# Imports\n",
    "import pandas as pd\n",
    "import numpy as np\n",
    "import matplotlib.pyplot as plt\n",
    "import seaborn as sns\n",
    "import sklearn"
   ]
  },
  {
   "cell_type": "code",
   "execution_count": 29,
   "metadata": {},
   "outputs": [
    {
     "name": "stdout",
     "output_type": "stream",
     "text": [
      "Training set: (750000, 18)\n",
      "Test set: (250000, 17)\n"
     ]
    }
   ],
   "source": [
    "# Setup and data loading\n",
    "plt.style.use('seaborn-v0_8')\n",
    "sns.set_palette(\"Set3\")\n",
    "pd.set_option('display.max_columns', None)\n",
    "\n",
    "train_df = pd.read_csv('../data/raw/train.csv')\n",
    "test_df = pd.read_csv('../data/raw/test.csv')\n",
    "\n",
    "print(f\"Training set: {train_df.shape}\")\n",
    "print(f\"Test set: {test_df.shape}\")"
   ]
  },
  {
   "cell_type": "code",
   "execution_count": 30,
   "metadata": {},
   "outputs": [
    {
     "name": "stdout",
     "output_type": "stream",
     "text": [
      "Dataset overview:\n",
      "Training samples: 750,000\n",
      "Features: 17\n",
      "Target: subscription to term deposit (y)\n",
      "\n",
      "Data types:\n",
      "id            int64\n",
      "age           int64\n",
      "job          object\n",
      "marital      object\n",
      "education    object\n",
      "default      object\n",
      "balance       int64\n",
      "housing      object\n",
      "loan         object\n",
      "contact      object\n",
      "day           int64\n",
      "month        object\n",
      "duration      int64\n",
      "campaign      int64\n",
      "pdays         int64\n",
      "previous      int64\n",
      "poutcome     object\n",
      "y             int64\n",
      "dtype: object\n",
      "\n",
      "First few rows:\n"
     ]
    },
    {
     "data": {
      "text/html": [
       "<div>\n",
       "<style scoped>\n",
       "    .dataframe tbody tr th:only-of-type {\n",
       "        vertical-align: middle;\n",
       "    }\n",
       "\n",
       "    .dataframe tbody tr th {\n",
       "        vertical-align: top;\n",
       "    }\n",
       "\n",
       "    .dataframe thead th {\n",
       "        text-align: right;\n",
       "    }\n",
       "</style>\n",
       "<table border=\"1\" class=\"dataframe\">\n",
       "  <thead>\n",
       "    <tr style=\"text-align: right;\">\n",
       "      <th></th>\n",
       "      <th>id</th>\n",
       "      <th>age</th>\n",
       "      <th>job</th>\n",
       "      <th>marital</th>\n",
       "      <th>education</th>\n",
       "      <th>default</th>\n",
       "      <th>balance</th>\n",
       "      <th>housing</th>\n",
       "      <th>loan</th>\n",
       "      <th>contact</th>\n",
       "      <th>day</th>\n",
       "      <th>month</th>\n",
       "      <th>duration</th>\n",
       "      <th>campaign</th>\n",
       "      <th>pdays</th>\n",
       "      <th>previous</th>\n",
       "      <th>poutcome</th>\n",
       "      <th>y</th>\n",
       "    </tr>\n",
       "  </thead>\n",
       "  <tbody>\n",
       "    <tr>\n",
       "      <th>0</th>\n",
       "      <td>0</td>\n",
       "      <td>42</td>\n",
       "      <td>technician</td>\n",
       "      <td>married</td>\n",
       "      <td>secondary</td>\n",
       "      <td>no</td>\n",
       "      <td>7</td>\n",
       "      <td>no</td>\n",
       "      <td>no</td>\n",
       "      <td>cellular</td>\n",
       "      <td>25</td>\n",
       "      <td>aug</td>\n",
       "      <td>117</td>\n",
       "      <td>3</td>\n",
       "      <td>-1</td>\n",
       "      <td>0</td>\n",
       "      <td>unknown</td>\n",
       "      <td>0</td>\n",
       "    </tr>\n",
       "    <tr>\n",
       "      <th>1</th>\n",
       "      <td>1</td>\n",
       "      <td>38</td>\n",
       "      <td>blue-collar</td>\n",
       "      <td>married</td>\n",
       "      <td>secondary</td>\n",
       "      <td>no</td>\n",
       "      <td>514</td>\n",
       "      <td>no</td>\n",
       "      <td>no</td>\n",
       "      <td>unknown</td>\n",
       "      <td>18</td>\n",
       "      <td>jun</td>\n",
       "      <td>185</td>\n",
       "      <td>1</td>\n",
       "      <td>-1</td>\n",
       "      <td>0</td>\n",
       "      <td>unknown</td>\n",
       "      <td>0</td>\n",
       "    </tr>\n",
       "    <tr>\n",
       "      <th>2</th>\n",
       "      <td>2</td>\n",
       "      <td>36</td>\n",
       "      <td>blue-collar</td>\n",
       "      <td>married</td>\n",
       "      <td>secondary</td>\n",
       "      <td>no</td>\n",
       "      <td>602</td>\n",
       "      <td>yes</td>\n",
       "      <td>no</td>\n",
       "      <td>unknown</td>\n",
       "      <td>14</td>\n",
       "      <td>may</td>\n",
       "      <td>111</td>\n",
       "      <td>2</td>\n",
       "      <td>-1</td>\n",
       "      <td>0</td>\n",
       "      <td>unknown</td>\n",
       "      <td>0</td>\n",
       "    </tr>\n",
       "    <tr>\n",
       "      <th>3</th>\n",
       "      <td>3</td>\n",
       "      <td>27</td>\n",
       "      <td>student</td>\n",
       "      <td>single</td>\n",
       "      <td>secondary</td>\n",
       "      <td>no</td>\n",
       "      <td>34</td>\n",
       "      <td>yes</td>\n",
       "      <td>no</td>\n",
       "      <td>unknown</td>\n",
       "      <td>28</td>\n",
       "      <td>may</td>\n",
       "      <td>10</td>\n",
       "      <td>2</td>\n",
       "      <td>-1</td>\n",
       "      <td>0</td>\n",
       "      <td>unknown</td>\n",
       "      <td>0</td>\n",
       "    </tr>\n",
       "    <tr>\n",
       "      <th>4</th>\n",
       "      <td>4</td>\n",
       "      <td>26</td>\n",
       "      <td>technician</td>\n",
       "      <td>married</td>\n",
       "      <td>secondary</td>\n",
       "      <td>no</td>\n",
       "      <td>889</td>\n",
       "      <td>yes</td>\n",
       "      <td>no</td>\n",
       "      <td>cellular</td>\n",
       "      <td>3</td>\n",
       "      <td>feb</td>\n",
       "      <td>902</td>\n",
       "      <td>1</td>\n",
       "      <td>-1</td>\n",
       "      <td>0</td>\n",
       "      <td>unknown</td>\n",
       "      <td>1</td>\n",
       "    </tr>\n",
       "  </tbody>\n",
       "</table>\n",
       "</div>"
      ],
      "text/plain": [
       "   id  age          job  marital  education default  balance housing loan  \\\n",
       "0   0   42   technician  married  secondary      no        7      no   no   \n",
       "1   1   38  blue-collar  married  secondary      no      514      no   no   \n",
       "2   2   36  blue-collar  married  secondary      no      602     yes   no   \n",
       "3   3   27      student   single  secondary      no       34     yes   no   \n",
       "4   4   26   technician  married  secondary      no      889     yes   no   \n",
       "\n",
       "    contact  day month  duration  campaign  pdays  previous poutcome  y  \n",
       "0  cellular   25   aug       117         3     -1         0  unknown  0  \n",
       "1   unknown   18   jun       185         1     -1         0  unknown  0  \n",
       "2   unknown   14   may       111         2     -1         0  unknown  0  \n",
       "3   unknown   28   may        10         2     -1         0  unknown  0  \n",
       "4  cellular    3   feb       902         1     -1         0  unknown  1  "
      ]
     },
     "metadata": {},
     "output_type": "display_data"
    },
    {
     "name": "stdout",
     "output_type": "stream",
     "text": [
      "\n",
      "Numerical summaries:\n"
     ]
    },
    {
     "data": {
      "text/html": [
       "<div>\n",
       "<style scoped>\n",
       "    .dataframe tbody tr th:only-of-type {\n",
       "        vertical-align: middle;\n",
       "    }\n",
       "\n",
       "    .dataframe tbody tr th {\n",
       "        vertical-align: top;\n",
       "    }\n",
       "\n",
       "    .dataframe thead th {\n",
       "        text-align: right;\n",
       "    }\n",
       "</style>\n",
       "<table border=\"1\" class=\"dataframe\">\n",
       "  <thead>\n",
       "    <tr style=\"text-align: right;\">\n",
       "      <th></th>\n",
       "      <th>id</th>\n",
       "      <th>age</th>\n",
       "      <th>balance</th>\n",
       "      <th>day</th>\n",
       "      <th>duration</th>\n",
       "      <th>campaign</th>\n",
       "      <th>pdays</th>\n",
       "      <th>previous</th>\n",
       "      <th>y</th>\n",
       "    </tr>\n",
       "  </thead>\n",
       "  <tbody>\n",
       "    <tr>\n",
       "      <th>count</th>\n",
       "      <td>750000.000000</td>\n",
       "      <td>750000.000000</td>\n",
       "      <td>750000.000000</td>\n",
       "      <td>750000.000000</td>\n",
       "      <td>750000.000000</td>\n",
       "      <td>750000.000000</td>\n",
       "      <td>750000.000000</td>\n",
       "      <td>750000.000000</td>\n",
       "      <td>750000.000000</td>\n",
       "    </tr>\n",
       "    <tr>\n",
       "      <th>mean</th>\n",
       "      <td>374999.500000</td>\n",
       "      <td>40.926395</td>\n",
       "      <td>1204.067397</td>\n",
       "      <td>16.117209</td>\n",
       "      <td>256.229144</td>\n",
       "      <td>2.577008</td>\n",
       "      <td>22.412733</td>\n",
       "      <td>0.298545</td>\n",
       "      <td>0.120651</td>\n",
       "    </tr>\n",
       "    <tr>\n",
       "      <th>std</th>\n",
       "      <td>216506.495284</td>\n",
       "      <td>10.098829</td>\n",
       "      <td>2836.096759</td>\n",
       "      <td>8.250832</td>\n",
       "      <td>272.555662</td>\n",
       "      <td>2.718514</td>\n",
       "      <td>77.319998</td>\n",
       "      <td>1.335926</td>\n",
       "      <td>0.325721</td>\n",
       "    </tr>\n",
       "    <tr>\n",
       "      <th>min</th>\n",
       "      <td>0.000000</td>\n",
       "      <td>18.000000</td>\n",
       "      <td>-8019.000000</td>\n",
       "      <td>1.000000</td>\n",
       "      <td>1.000000</td>\n",
       "      <td>1.000000</td>\n",
       "      <td>-1.000000</td>\n",
       "      <td>0.000000</td>\n",
       "      <td>0.000000</td>\n",
       "    </tr>\n",
       "    <tr>\n",
       "      <th>25%</th>\n",
       "      <td>187499.750000</td>\n",
       "      <td>33.000000</td>\n",
       "      <td>0.000000</td>\n",
       "      <td>9.000000</td>\n",
       "      <td>91.000000</td>\n",
       "      <td>1.000000</td>\n",
       "      <td>-1.000000</td>\n",
       "      <td>0.000000</td>\n",
       "      <td>0.000000</td>\n",
       "    </tr>\n",
       "    <tr>\n",
       "      <th>50%</th>\n",
       "      <td>374999.500000</td>\n",
       "      <td>39.000000</td>\n",
       "      <td>634.000000</td>\n",
       "      <td>17.000000</td>\n",
       "      <td>133.000000</td>\n",
       "      <td>2.000000</td>\n",
       "      <td>-1.000000</td>\n",
       "      <td>0.000000</td>\n",
       "      <td>0.000000</td>\n",
       "    </tr>\n",
       "    <tr>\n",
       "      <th>75%</th>\n",
       "      <td>562499.250000</td>\n",
       "      <td>48.000000</td>\n",
       "      <td>1390.000000</td>\n",
       "      <td>21.000000</td>\n",
       "      <td>361.000000</td>\n",
       "      <td>3.000000</td>\n",
       "      <td>-1.000000</td>\n",
       "      <td>0.000000</td>\n",
       "      <td>0.000000</td>\n",
       "    </tr>\n",
       "    <tr>\n",
       "      <th>max</th>\n",
       "      <td>749999.000000</td>\n",
       "      <td>95.000000</td>\n",
       "      <td>99717.000000</td>\n",
       "      <td>31.000000</td>\n",
       "      <td>4918.000000</td>\n",
       "      <td>63.000000</td>\n",
       "      <td>871.000000</td>\n",
       "      <td>200.000000</td>\n",
       "      <td>1.000000</td>\n",
       "    </tr>\n",
       "  </tbody>\n",
       "</table>\n",
       "</div>"
      ],
      "text/plain": [
       "                  id            age        balance            day  \\\n",
       "count  750000.000000  750000.000000  750000.000000  750000.000000   \n",
       "mean   374999.500000      40.926395    1204.067397      16.117209   \n",
       "std    216506.495284      10.098829    2836.096759       8.250832   \n",
       "min         0.000000      18.000000   -8019.000000       1.000000   \n",
       "25%    187499.750000      33.000000       0.000000       9.000000   \n",
       "50%    374999.500000      39.000000     634.000000      17.000000   \n",
       "75%    562499.250000      48.000000    1390.000000      21.000000   \n",
       "max    749999.000000      95.000000   99717.000000      31.000000   \n",
       "\n",
       "            duration       campaign          pdays       previous  \\\n",
       "count  750000.000000  750000.000000  750000.000000  750000.000000   \n",
       "mean      256.229144       2.577008      22.412733       0.298545   \n",
       "std       272.555662       2.718514      77.319998       1.335926   \n",
       "min         1.000000       1.000000      -1.000000       0.000000   \n",
       "25%        91.000000       1.000000      -1.000000       0.000000   \n",
       "50%       133.000000       2.000000      -1.000000       0.000000   \n",
       "75%       361.000000       3.000000      -1.000000       0.000000   \n",
       "max      4918.000000      63.000000     871.000000     200.000000   \n",
       "\n",
       "                   y  \n",
       "count  750000.000000  \n",
       "mean        0.120651  \n",
       "std         0.325721  \n",
       "min         0.000000  \n",
       "25%         0.000000  \n",
       "50%         0.000000  \n",
       "75%         0.000000  \n",
       "max         1.000000  "
      ]
     },
     "metadata": {},
     "output_type": "display_data"
    }
   ],
   "source": [
    "# Basic dataset information\n",
    "print(\"Dataset overview:\")\n",
    "print(f\"Training samples: {train_df.shape[0]:,}\")\n",
    "print(f\"Features: {train_df.shape[1] - 1}\")\n",
    "print(f\"Target: subscription to term deposit (y)\")\n",
    "\n",
    "print(\"\\nData types:\")\n",
    "print(train_df.dtypes)\n",
    "\n",
    "print(\"\\nFirst few rows:\")\n",
    "display(train_df.head())\n",
    "\n",
    "print(\"\\nNumerical summaries:\")\n",
    "display(train_df.describe())"
   ]
  },
  {
   "cell_type": "code",
   "execution_count": 31,
   "metadata": {},
   "outputs": [
    {
     "name": "stdout",
     "output_type": "stream",
     "text": [
      "Missing values analysis:\n"
     ]
    },
    {
     "data": {
      "text/html": [
       "<div>\n",
       "<style scoped>\n",
       "    .dataframe tbody tr th:only-of-type {\n",
       "        vertical-align: middle;\n",
       "    }\n",
       "\n",
       "    .dataframe tbody tr th {\n",
       "        vertical-align: top;\n",
       "    }\n",
       "\n",
       "    .dataframe thead th {\n",
       "        text-align: right;\n",
       "    }\n",
       "</style>\n",
       "<table border=\"1\" class=\"dataframe\">\n",
       "  <thead>\n",
       "    <tr style=\"text-align: right;\">\n",
       "      <th></th>\n",
       "      <th>Missing_Count</th>\n",
       "      <th>Missing_Percentage</th>\n",
       "    </tr>\n",
       "  </thead>\n",
       "  <tbody>\n",
       "  </tbody>\n",
       "</table>\n",
       "</div>"
      ],
      "text/plain": [
       "Empty DataFrame\n",
       "Columns: [Missing_Count, Missing_Percentage]\n",
       "Index: []"
      ]
     },
     "metadata": {},
     "output_type": "display_data"
    },
    {
     "name": "stdout",
     "output_type": "stream",
     "text": [
      "No missing values found in the dataset.\n"
     ]
    }
   ],
   "source": [
    "# Check for missing values\n",
    "missing_data = train_df.isnull().sum()\n",
    "missing_pct = (missing_data / len(train_df)) * 100\n",
    "\n",
    "missing_summary = pd.DataFrame({\n",
    "    'Missing_Count': missing_data,\n",
    "    'Missing_Percentage': missing_pct\n",
    "}).sort_values('Missing_Count', ascending=False)\n",
    "\n",
    "print(\"Missing values analysis:\")\n",
    "display(missing_summary[missing_summary['Missing_Count'] > 0])\n",
    "\n",
    "if missing_data.sum() == 0:\n",
    "    print(\"No missing values found in the dataset.\")"
   ]
  },
  {
   "cell_type": "markdown",
   "metadata": {},
   "source": [
    "## Target Variable Distribution"
   ]
  },
  {
   "cell_type": "code",
   "execution_count": 32,
   "metadata": {},
   "outputs": [
    {
     "name": "stdout",
     "output_type": "stream",
     "text": [
      "Target variable distribution:\n",
      "No subscription (0): 659,512 (87.9%)\n",
      "Subscription (1): 90,488 (12.1%)\n",
      "Imbalance ratio: 7.3:1\n"
     ]
    },
    {
     "data": {
      "image/png": "[encoded data removed]",
      "text/plain": [
       "<Figure size 1200x500 with 2 Axes>"
      ]
     },
     "metadata": {},
     "output_type": "display_data"
    }
   ],
   "source": [
    "# Examine target distribution\n",
    "target_counts = train_df['y'].value_counts()\n",
    "target_pct = train_df['y'].value_counts(normalize=True) * 100\n",
    "\n",
    "print(\"Target variable distribution:\")\n",
    "print(f\"No subscription (0): {target_counts[0]:,} ({target_pct[0]:.1f}%)\")\n",
    "print(f\"Subscription (1): {target_counts[1]:,} ({target_pct[1]:.1f}%)\")\n",
    "print(f\"Imbalance ratio: {target_counts[0] / target_counts[1]:.1f}:1\")\n",
    "\n",
    "# Visualization\n",
    "fig, (ax1, ax2) = plt.subplots(1, 2, figsize=(12, 5))\n",
    "\n",
    "sns.countplot(data=train_df, x='y', ax=ax1)\n",
    "ax1.set_title('Target Distribution')\n",
    "ax1.set_xlabel('Subscription')\n",
    "ax1.set_ylabel('Count')\n",
    "\n",
    "target_pct.plot(kind='pie', ax=ax2, autopct='%1.1f%%', startangle=90)\n",
    "ax2.set_title('Target Distribution (%)')\n",
    "ax2.set_ylabel('')\n",
    "\n",
    "plt.tight_layout()\n",
    "plt.savefig('../docs/docs/images/target_distribution.png', dpi=300, bbox_inches='tight')\n",
    "plt.show()"
   ]
  },
  {
   "cell_type": "markdown",
   "metadata": {},
   "source": [
    "## Feature Analysis"
   ]
  },
  {
   "cell_type": "code",
   "execution_count": 33,
   "metadata": {},
   "outputs": [
    {
     "name": "stdout",
     "output_type": "stream",
     "text": [
      "Categorical features: 9\n",
      "Numerical features: 7\n",
      "\n",
      "Categorical feature cardinality:\n",
      "job: 12 categories (most common: management)\n",
      "marital: 3 categories (most common: married)\n",
      "education: 4 categories (most common: secondary)\n",
      "default: 2 categories (most common: no)\n",
      "housing: 2 categories (most common: yes)\n",
      "loan: 2 categories (most common: no)\n",
      "contact: 3 categories (most common: cellular)\n",
      "month: 12 categories (most common: may)\n",
      "poutcome: 4 categories (most common: unknown)\n"
     ]
    }
   ],
   "source": [
    "# Categorize features for analysis\n",
    "categorical_features = ['job', 'marital', 'education', 'default', 'housing', 'loan', 'contact', 'month', 'poutcome']\n",
    "numerical_features = ['age', 'balance', 'day', 'duration', 'campaign', 'pdays', 'previous']\n",
    "\n",
    "print(f\"Categorical features: {len(categorical_features)}\")\n",
    "print(f\"Numerical features: {len(numerical_features)}\")\n",
    "\n",
    "# Check unique values in categorical features\n",
    "print(\"\\nCategorical feature cardinality:\")\n",
    "for col in categorical_features:\n",
    "    unique_vals = train_df[col].nunique()\n",
    "    top_category = train_df[col].mode().iloc[0]\n",
    "    print(f\"{col}: {unique_vals} categories (most common: {top_category})\")"
   ]
  },
  {
   "cell_type": "markdown",
   "metadata": {},
   "source": [
    "### Categorical Feature Distributions"
   ]
  },
  {
   "cell_type": "code",
   "execution_count": null,
   "metadata": {},
   "outputs": [],
   "source": "# Distribution of categorical features - split into multiple readable figures\n\n# First batch: Job, Marital, Education\nfig, axes = plt.subplots(1, 3, figsize=(18, 6))\ncols_batch1 = ['job', 'marital', 'education']\n\nfor i, col in enumerate(cols_batch1):\n    value_counts = train_df[col].value_counts()\n    sns.countplot(data=train_df, y=col, ax=axes[i], order=value_counts.index)\n    axes[i].set_title(f'{col.title()} Distribution', fontsize=14)\n    axes[i].set_xlabel('Count', fontsize=12)\n    axes[i].tick_params(labelsize=10)\n    \n    # Add percentage annotations\n    total = len(train_df)\n    for p in axes[i].patches:\n        pct = f'{100 * p.get_width() / total:.1f}%'\n        axes[i].annotate(pct, (p.get_width(), p.get_y() + p.get_height()/2), \n                        ha='left', va='center', fontsize=10)\n\nplt.tight_layout()\nplt.savefig('../docs/docs/images/categorical_distributions_1.png', dpi=300, bbox_inches='tight')\nplt.show()\n\n# Second batch: Default, Housing, Loan\nfig, axes = plt.subplots(1, 3, figsize=(18, 6))\ncols_batch2 = ['default', 'housing', 'loan']\n\nfor i, col in enumerate(cols_batch2):\n    value_counts = train_df[col].value_counts()\n    sns.countplot(data=train_df, y=col, ax=axes[i], order=value_counts.index)\n    axes[i].set_title(f'{col.title()} Distribution', fontsize=14)\n    axes[i].set_xlabel('Count', fontsize=12)\n    axes[i].tick_params(labelsize=10)\n    \n    # Add percentage annotations\n    total = len(train_df)\n    for p in axes[i].patches:\n        pct = f'{100 * p.get_width() / total:.1f}%'\n        axes[i].annotate(pct, (p.get_width(), p.get_y() + p.get_height()/2), \n                        ha='left', va='center', fontsize=10)\n\nplt.tight_layout()\nplt.savefig('../docs/docs/images/categorical_distributions_2.png', dpi=300, bbox_inches='tight')\nplt.show()\n\n# Third batch: Contact, Month, Poutcome\nfig, axes = plt.subplots(1, 3, figsize=(18, 6))\ncols_batch3 = ['contact', 'month', 'poutcome']\n\nfor i, col in enumerate(cols_batch3):\n    value_counts = train_df[col].value_counts()\n    sns.countplot(data=train_df, y=col, ax=axes[i], order=value_counts.index)\n    axes[i].set_title(f'{col.title()} Distribution', fontsize=14)\n    axes[i].set_xlabel('Count', fontsize=12)\n    axes[i].tick_params(labelsize=10)\n    \n    # Add percentage annotations\n    total = len(train_df)\n    for p in axes[i].patches:\n        pct = f'{100 * p.get_width() / total:.1f}%'\n        axes[i].annotate(pct, (p.get_width(), p.get_y() + p.get_height()/2), \n                        ha='left', va='center', fontsize=10)\n\nplt.tight_layout()\nplt.savefig('../docs/docs/images/categorical_distributions_3.png', dpi=300, bbox_inches='tight')\nplt.show()"
  },
  {
   "cell_type": "markdown",
   "metadata": {},
   "source": [
    "### Numerical Feature Distributions"
   ]
  },
  {
   "cell_type": "code",
   "execution_count": null,
   "metadata": {},
   "outputs": [],
   "source": "# Distribution analysis for numerical features - split into readable figures\n\n# First batch: Age, Balance, Duration\nfig, axes = plt.subplots(1, 3, figsize=(18, 6))\ncols_batch1 = ['age', 'balance', 'duration']\n\nfor i, col in enumerate(cols_batch1):\n    axes[i].hist(train_df[col], bins=50, alpha=0.7, edgecolor='black')\n    axes[i].set_title(f'{col.title()} Distribution', fontsize=14)\n    axes[i].set_xlabel(col, fontsize=12)\n    axes[i].set_ylabel('Frequency', fontsize=12)\n    axes[i].tick_params(labelsize=10)\n    \n    # Add mean and median lines\n    mean_val = train_df[col].mean()\n    median_val = train_df[col].median()\n    axes[i].axvline(mean_val, color='red', linestyle='--', alpha=0.7, label=f'Mean: {mean_val:.0f}')\n    axes[i].axvline(median_val, color='green', linestyle='--', alpha=0.7, label=f'Median: {median_val:.0f}')\n    axes[i].legend(fontsize=10)\n\nplt.tight_layout()\nplt.savefig('../docs/docs/images/numerical_distributions_1.png', dpi=300, bbox_inches='tight')\nplt.show()\n\n# Second batch: Day, Campaign, Pdays, Previous\nfig, axes = plt.subplots(2, 2, figsize=(15, 10))\naxes = axes.ravel()\ncols_batch2 = ['day', 'campaign', 'pdays', 'previous']\n\nfor i, col in enumerate(cols_batch2):\n    axes[i].hist(train_df[col], bins=50, alpha=0.7, edgecolor='black')\n    axes[i].set_title(f'{col.title()} Distribution', fontsize=14)\n    axes[i].set_xlabel(col, fontsize=12)\n    axes[i].set_ylabel('Frequency', fontsize=12)\n    axes[i].tick_params(labelsize=10)\n    \n    # Add mean and median lines\n    mean_val = train_df[col].mean()\n    median_val = train_df[col].median()\n    axes[i].axvline(mean_val, color='red', linestyle='--', alpha=0.7, label=f'Mean: {mean_val:.0f}')\n    axes[i].axvline(median_val, color='green', linestyle='--', alpha=0.7, label=f'Median: {median_val:.0f}')\n    axes[i].legend(fontsize=10)\n\nplt.tight_layout()\nplt.savefig('../docs/docs/images/numerical_distributions_2.png', dpi=300, bbox_inches='tight')\nplt.show()"
  },
  {
   "cell_type": "markdown",
   "metadata": {},
   "source": [
    "## Relationship with Target Variable"
   ]
  },
  {
   "cell_type": "markdown",
   "metadata": {},
   "source": [
    "### Categorical Features vs Target"
   ]
  },
  {
   "cell_type": "code",
   "execution_count": null,
   "metadata": {},
   "outputs": [],
   "source": "# Subscription rates across categorical features - split into readable figures\n\n# First batch: Job, Marital, Education\nfig, axes = plt.subplots(1, 3, figsize=(20, 6))\ncols_batch1 = ['job', 'marital', 'education']\n\nfor i, col in enumerate(cols_batch1):\n    ct = pd.crosstab(train_df[col], train_df['y'], normalize='index') * 100\n    \n    ct.plot(kind='bar', stacked=True, ax=axes[i], \n            color=['lightcoral', 'lightblue'], alpha=0.8)\n    axes[i].set_title(f'{col.title()} vs Subscription Rate', fontsize=14)\n    axes[i].set_xlabel(col, fontsize=12)\n    axes[i].set_ylabel('Percentage', fontsize=12)\n    axes[i].legend(['No', 'Yes'], loc='upper right', fontsize=10)\n    axes[i].tick_params(axis='x', rotation=45, labelsize=10)\n\nplt.tight_layout()\nplt.savefig('../docs/docs/images/categorical_vs_target_1.png', dpi=300, bbox_inches='tight')\nplt.show()\n\n# Second batch: Default, Housing, Loan\nfig, axes = plt.subplots(1, 3, figsize=(20, 6))\ncols_batch2 = ['default', 'housing', 'loan']\n\nfor i, col in enumerate(cols_batch2):\n    ct = pd.crosstab(train_df[col], train_df['y'], normalize='index') * 100\n    \n    ct.plot(kind='bar', stacked=True, ax=axes[i], \n            color=['lightcoral', 'lightblue'], alpha=0.8)\n    axes[i].set_title(f'{col.title()} vs Subscription Rate', fontsize=14)\n    axes[i].set_xlabel(col, fontsize=12)\n    axes[i].set_ylabel('Percentage', fontsize=12)\n    axes[i].legend(['No', 'Yes'], loc='upper right', fontsize=10)\n    axes[i].tick_params(axis='x', rotation=45, labelsize=10)\n\nplt.tight_layout()\nplt.savefig('../docs/docs/images/categorical_vs_target_2.png', dpi=300, bbox_inches='tight')\nplt.show()\n\n# Third batch: Contact, Month, Poutcome\nfig, axes = plt.subplots(1, 3, figsize=(20, 6))\ncols_batch3 = ['contact', 'month', 'poutcome']\n\nfor i, col in enumerate(cols_batch3):\n    ct = pd.crosstab(train_df[col], train_df['y'], normalize='index') * 100\n    \n    ct.plot(kind='bar', stacked=True, ax=axes[i], \n            color=['lightcoral', 'lightblue'], alpha=0.8)\n    axes[i].set_title(f'{col.title()} vs Subscription Rate', fontsize=14)\n    axes[i].set_xlabel(col, fontsize=12)\n    axes[i].set_ylabel('Percentage', fontsize=12)\n    axes[i].legend(['No', 'Yes'], loc='upper right', fontsize=10)\n    axes[i].tick_params(axis='x', rotation=45, labelsize=10)\n\nplt.tight_layout()\nplt.savefig('../docs/docs/images/categorical_vs_target_3.png', dpi=300, bbox_inches='tight')\nplt.show()\n\n# Detailed subscription rates\nprint(\"Subscription rates by category:\")\nfor col in categorical_features:\n    print(f\"\\n{col}:\")\n    rates = train_df.groupby(col)['y'].agg(['count', 'mean']).round(4)\n    rates.columns = ['Count', 'Sub_Rate']\n    rates = rates.sort_values('Sub_Rate', ascending=False)\n    display(rates.head())"
  },
  {
   "cell_type": "markdown",
   "metadata": {},
   "source": [
    "### Numerical Features vs Target"
   ]
  },
  {
   "cell_type": "code",
   "execution_count": null,
   "metadata": {},
   "outputs": [],
   "source": "# Compare numerical features between target classes - split into readable figures\n\n# First batch: Age, Balance, Duration\nfig, axes = plt.subplots(1, 3, figsize=(18, 6))\ncols_batch1 = ['age', 'balance', 'duration']\n\nfor i, col in enumerate(cols_batch1):\n    sns.boxplot(data=train_df, x='y', y=col, ax=axes[i])\n    axes[i].set_title(f'{col.title()} by Subscription', fontsize=14)\n    axes[i].set_xlabel('Subscription', fontsize=12)\n    axes[i].set_ylabel(col, fontsize=12)\n    axes[i].tick_params(labelsize=10)\n\nplt.tight_layout()\nplt.savefig('../docs/docs/images/numerical_vs_target_1.png', dpi=300, bbox_inches='tight')\nplt.show()\n\n# Second batch: Day, Campaign, Pdays, Previous\nfig, axes = plt.subplots(2, 2, figsize=(15, 10))\naxes = axes.ravel()\ncols_batch2 = ['day', 'campaign', 'pdays', 'previous']\n\nfor i, col in enumerate(cols_batch2):\n    sns.boxplot(data=train_df, x='y', y=col, ax=axes[i])\n    axes[i].set_title(f'{col.title()} by Subscription', fontsize=14)\n    axes[i].set_xlabel('Subscription', fontsize=12)\n    axes[i].set_ylabel(col, fontsize=12)\n    axes[i].tick_params(labelsize=10)\n\nplt.tight_layout()\nplt.savefig('../docs/docs/images/numerical_vs_target_2.png', dpi=300, bbox_inches='tight')\nplt.show()\n\n# Statistical summary by target\nprint(\"Numerical features by target class:\")\nfor col in numerical_features:\n    print(f\"\\n{col}:\")\n    stats = train_df.groupby('y')[col].agg(['mean', 'median', 'std']).round(2)\n    stats.index = ['No Subscription', 'Subscription']\n    display(stats)"
  },
  {
   "cell_type": "markdown",
   "metadata": {},
   "source": [
    "## Feature Correlations"
   ]
  },
  {
   "cell_type": "code",
   "execution_count": 38,
   "metadata": {},
   "outputs": [
    {
     "data": {
      "image/png": "[encoded data removed]",
      "text/plain": [
       "<Figure size 1000x800 with 2 Axes>"
      ]
     },
     "metadata": {},
     "output_type": "display_data"
    },
    {
     "name": "stdout",
     "output_type": "stream",
     "text": [
      "Correlations with target variable:\n",
      "duration: 0.5193\n",
      "balance: 0.1225\n",
      "previous: 0.1196\n",
      "pdays: 0.0893\n",
      "campaign: -0.0758\n",
      "day: -0.0496\n",
      "age: 0.0095\n"
     ]
    }
   ],
   "source": [
    "# Correlation analysis\n",
    "numerical_cols = numerical_features + ['y']\n",
    "corr_matrix = train_df[numerical_cols].corr()\n",
    "\n",
    "plt.figure(figsize=(10, 8))\n",
    "mask = np.triu(corr_matrix, k=1)\n",
    "sns.heatmap(corr_matrix, annot=True, cmap='RdBu_r', center=0,\n",
    "            square=True, mask=mask, cbar_kws={\"shrink\": .8})\n",
    "plt.title('Feature Correlation Matrix')\n",
    "plt.tight_layout()\n",
    "plt.savefig('../docs/docs/images/correlation_matrix.png', dpi=300, bbox_inches='tight')\n",
    "plt.show()\n",
    "\n",
    "# Target correlations\n",
    "print(\"Correlations with target variable:\")\n",
    "target_corrs = corr_matrix['y'].drop('y').sort_values(key=abs, ascending=False)\n",
    "for feature, corr in target_corrs.items():\n",
    "    print(f\"{feature}: {corr:.4f}\")"
   ]
  },
  {
   "cell_type": "markdown",
   "metadata": {},
   "source": [
    "## Summary of Findings"
   ]
  },
  {
   "cell_type": "code",
   "execution_count": 39,
   "metadata": {},
   "outputs": [
    {
     "name": "stdout",
     "output_type": "stream",
     "text": [
      "Dataset characteristics:\n",
      "- 750,000 training samples with 17 features\n",
      "- Target class distribution: 659,512 no subscription, 90,488 subscription\n",
      "- Imbalanced classes with 7.3:1 ratio\n",
      "- No missing values in the dataset\n",
      "\n",
      "Important feature insights:\n",
      "- Strongest target correlation: duration (0.519)\n",
      "- High subscription rate categories:\n",
      "  poutcome = success: 76.4%\n",
      "  month = mar: 57.1%\n",
      "  job = student: 34.1%\n",
      "\n",
      "Data quality observations:\n",
      "- 'pdays' has many -1 values (likely indicating no previous contact)\n",
      "- Some extreme values in 'balance' and 'duration' features\n",
      "- All categorical features are properly encoded as strings\n",
      "\n",
      "Modeling considerations:\n",
      "- Class imbalance will need to be addressed\n",
      "- Feature engineering opportunities with 'pdays' variable\n",
      "- Consider outlier treatment for numerical features\n",
      "- Strong predictive signal from call duration and previous campaign results\n"
     ]
    }
   ],
   "source": [
    "# Key findings from the analysis\n",
    "print(\"Dataset characteristics:\")\n",
    "print(f\"- {train_df.shape[0]:,} training samples with {train_df.shape[1]-1} features\")\n",
    "print(f\"- Target class distribution: {train_df['y'].value_counts()[0]:,} no subscription, {train_df['y'].value_counts()[1]:,} subscription\")\n",
    "print(f\"- Imbalanced classes with {train_df['y'].value_counts()[0]/train_df['y'].value_counts()[1]:.1f}:1 ratio\")\n",
    "print(\"- No missing values in the dataset\")\n",
    "\n",
    "print(\"\\nImportant feature insights:\")\n",
    "\n",
    "# Find strongest correlations\n",
    "strongest_corr = corr_matrix['y'].drop('y').abs().idxmax()\n",
    "strongest_val = corr_matrix['y'][strongest_corr]\n",
    "print(f\"- Strongest target correlation: {strongest_corr} ({strongest_val:.3f})\")\n",
    "\n",
    "# Find categories with high subscription rates\n",
    "high_sub_categories = []\n",
    "for col in categorical_features:\n",
    "    rates = train_df.groupby(col)['y'].mean()\n",
    "    max_rate = rates.max()\n",
    "    if max_rate > 0.2:  # Above 20% subscription rate\n",
    "        max_category = rates.idxmax()\n",
    "        high_sub_categories.append((col, max_category, max_rate))\n",
    "\n",
    "if high_sub_categories:\n",
    "    print(\"- High subscription rate categories:\")\n",
    "    for col, cat, rate in sorted(high_sub_categories, key=lambda x: x[2], reverse=True):\n",
    "        print(f\"  {col} = {cat}: {rate*100:.1f}%\")\n",
    "\n",
    "print(\"\\nData quality observations:\")\n",
    "print(\"- 'pdays' has many -1 values (likely indicating no previous contact)\")\n",
    "print(\"- Some extreme values in 'balance' and 'duration' features\") \n",
    "print(\"- All categorical features are properly encoded as strings\")\n",
    "\n",
    "print(\"\\nModeling considerations:\")\n",
    "print(\"- Class imbalance will need to be addressed\")\n",
    "print(\"- Feature engineering opportunities with 'pdays' variable\")\n",
    "print(\"- Consider outlier treatment for numerical features\")\n",
    "print(\"- Strong predictive signal from call duration and previous campaign results\")"
   ]
  }
 ],
 "metadata": {
  "kernelspec": {
   "display_name": ".venv",
   "language": "python",
   "name": "python3"
  },
  "language_info": {
   "codemirror_mode": {
    "name": "ipython",
    "version": 3
   },
   "file_extension": ".py",
   "mimetype": "text/x-python",
   "name": "python",
   "nbconvert_exporter": "python",
   "pygments_lexer": "ipython3",
   "version": "3.13.5"
  }
 },
 "nbformat": 4,
 "nbformat_minor": 4
}