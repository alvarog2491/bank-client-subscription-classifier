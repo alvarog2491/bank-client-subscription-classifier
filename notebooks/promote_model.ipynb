{
 "cells": [
  {
   "cell_type": "code",
   "execution_count": 25,
   "id": "274c57cf",
   "metadata": {},
   "outputs": [],
   "source": [
    "import mlflow\n",
    "from mlflow import MlflowClient\n",
    "import mlflow_export_import"
   ]
  },
  {
   "cell_type": "markdown",
   "id": "ad5a641a",
   "metadata": {},
   "source": [
    "## Get model from Dev environment"
   ]
  },
  {
   "cell_type": "code",
   "execution_count": 28,
   "id": "d6a5a65c",
   "metadata": {},
   "outputs": [
    {
     "name": "stderr",
     "output_type": "stream",
     "text": [
      "/Users/alvaro/MEGA/Kaggle/competitions/bank-client-subscription-classifier/.venv/lib/python3.13/site-packages/xgboost/sklearn.py:1028: UserWarning: [23:41:53] WARNING: /Users/runner/work/xgboost/xgboost/src/c_api/c_api.cc:1427: Saving model in the UBJSON format as default.  You can use file extension: `json`, `ubj` or `deprecated` to choose between formats.\n",
      "  self.get_booster().save_model(fname)\n"
     ]
    },
    {
     "name": "stdout",
     "output_type": "stream",
     "text": [
      "Model saved to /Users/alvaro/MEGA/Kaggle/competitions/bank-client-subscription-classifier/tmp\n"
     ]
    }
   ],
   "source": [
    "mlflow.set_tracking_uri(\"http://localhost:5001\")\n",
    "\n",
    "model_name = \"bank-client-subscription-classifier-xgboost\"\n",
    "model_version = \"19\"\n",
    "\n",
    "model_uri = f\"models:/{model_name}/{model_version}\"\n",
    "model = mlflow.xgboost.load_model(model_uri)\n",
    "\n",
    "# Save to /tmp\n",
    "output_dir = \"/Users/alvaro/MEGA/Kaggle/competitions/bank-client-subscription-classifier/tmp\"\n",
    "mlflow.xgboost.save_model(model, output_dir)\n",
    "\n",
    "print(f\"Model saved to {output_dir}\")"
   ]
  },
  {
   "cell_type": "code",
   "execution_count": 32,
   "id": "9294d017",
   "metadata": {},
   "outputs": [
    {
     "name": "stdout",
     "output_type": "stream",
     "text": [
      "Name: bank-client-subscription-classifier-catboost, Latest version: 4\n",
      "Name: bank-client-subscription-classifier-lightgbm, Latest version: 12\n",
      "Name: bank-client-subscription-classifier-xgboost, Latest version: 24\n",
      "Name: prod.bank-client-subscription-classifier-xgboost, Latest version: 1\n",
      "[<RegisteredModel: aliases={}, creation_timestamp=1756028838438, deployment_job_id='', deployment_job_state='DEPLOYMENT_JOB_CONNECTION_STATE_UNSPECIFIED', description='', last_updated_timestamp=1756226308925, latest_versions=[<ModelVersion: aliases=[], creation_timestamp=1756226308925, current_stage='None', deployment_job_state=<ModelVersionDeploymentJobState: current_task_name='', job_id='', job_state='DEPLOYMENT_JOB_CONNECTION_STATE_UNSPECIFIED', run_id='', run_state='DEPLOYMENT_JOB_RUN_STATE_UNSPECIFIED'>, description=None, last_updated_timestamp=1756226308925, metrics=None, model_id=None, name='bank-client-subscription-classifier-catboost', params=None, run_id='b26a75863f00431b98a27b79abee6269', run_link='', source='models:/m-16fd8a15f57c445ab6a1d1888c27d4b2', status='READY', status_message=None, tags={}, user_id='', version='4'>], name='bank-client-subscription-classifier-catboost', tags={}>, <RegisteredModel: aliases={}, creation_timestamp=1756028748037, deployment_job_id='', deployment_job_state='DEPLOYMENT_JOB_CONNECTION_STATE_UNSPECIFIED', description='', last_updated_timestamp=1756226450689, latest_versions=[<ModelVersion: aliases=[], creation_timestamp=1756226450689, current_stage='None', deployment_job_state=<ModelVersionDeploymentJobState: current_task_name='', job_id='', job_state='DEPLOYMENT_JOB_CONNECTION_STATE_UNSPECIFIED', run_id='', run_state='DEPLOYMENT_JOB_RUN_STATE_UNSPECIFIED'>, description=None, last_updated_timestamp=1756226450689, metrics=None, model_id=None, name='bank-client-subscription-classifier-lightgbm', params=None, run_id='ffce4695007148daa2ca0691c89a62fe', run_link='', source='models:/m-8875ba47c1e34c5096cd7691dab16ef5', status='READY', status_message=None, tags={}, user_id='', version='12'>], name='bank-client-subscription-classifier-lightgbm', tags={}>, <RegisteredModel: aliases={'champion': '19'}, creation_timestamp=1756028891549, deployment_job_id='', deployment_job_state='DEPLOYMENT_JOB_CONNECTION_STATE_UNSPECIFIED', description='', last_updated_timestamp=1760123763592, latest_versions=[<ModelVersion: aliases=[], creation_timestamp=1760123763592, current_stage='None', deployment_job_state=<ModelVersionDeploymentJobState: current_task_name='', job_id='', job_state='DEPLOYMENT_JOB_CONNECTION_STATE_UNSPECIFIED', run_id='', run_state='DEPLOYMENT_JOB_RUN_STATE_UNSPECIFIED'>, description='', last_updated_timestamp=1760123763592, metrics=None, model_id=None, name='bank-client-subscription-classifier-xgboost', params=None, run_id='1f5df95070d940b1ae11adfe976d8970', run_link='', source='models:/bank-client-subscription-classifier-xgboost/19', status='READY', status_message=None, tags={}, user_id='', version='24'>], name='bank-client-subscription-classifier-xgboost', tags={}>, <RegisteredModel: aliases={'champion': '1'}, creation_timestamp=1760123797465, deployment_job_id='', deployment_job_state='DEPLOYMENT_JOB_CONNECTION_STATE_UNSPECIFIED', description='', last_updated_timestamp=1760123797518, latest_versions=[<ModelVersion: aliases=[], creation_timestamp=1760123797518, current_stage='None', deployment_job_state=<ModelVersionDeploymentJobState: current_task_name='', job_id='', job_state='DEPLOYMENT_JOB_CONNECTION_STATE_UNSPECIFIED', run_id='', run_state='DEPLOYMENT_JOB_RUN_STATE_UNSPECIFIED'>, description='', last_updated_timestamp=1760123797518, metrics=None, model_id=None, name='prod.bank-client-subscription-classifier-xgboost', params=None, run_id='1f5df95070d940b1ae11adfe976d8970', run_link='', source='models:/bank-client-subscription-classifier-xgboost/19', status='READY', status_message=None, tags={}, user_id='', version='1'>], name='prod.bank-client-subscription-classifier-xgboost', tags={}>]\n"
     ]
    }
   ],
   "source": [
    "import mlflow\n",
    "\n",
    "mlflow.set_tracking_uri(\"http://localhost:5001\")\n",
    "client = mlflow.MlflowClient()\n",
    "\n",
    "# List all registered models\n",
    "models = client.search_registered_models()\n",
    "for m in models:\n",
    "    latest_version = m.latest_versions[0].version if m.latest_versions else 'None'\n",
    "    print(f\"Name: {m.name}, Latest version: {latest_version}\")\n",
    "\n",
    "print(models)"
   ]
  },
  {
   "cell_type": "markdown",
   "id": "38d461b8",
   "metadata": {},
   "source": [
    "## Build Docker image"
   ]
  },
  {
   "cell_type": "code",
   "execution_count": null,
   "id": "ed9971eb",
   "metadata": {},
   "outputs": [
    {
     "data": {
      "text/plain": [
       "'models:/bank-client-subscription-classifier-xgboost/19'"
      ]
     },
     "execution_count": 29,
     "metadata": {},
     "output_type": "execute_result"
    }
   ],
   "source": [
    "mlflow models build-docker \\\n",
    "  -m 'models:/bank-client-subscription-classifier-xgboost/19' \\\n",
    "  -n 'model_bank_client_subscription_champion' \\\n",
    "  --env-manager local\n",
    "model_uri"
   ]
  }
 ],
 "metadata": {
  "kernelspec": {
   "display_name": ".venv",
   "language": "python",
   "name": "python3"
  },
  "language_info": {
   "codemirror_mode": {
    "name": "ipython",
    "version": 3
   },
   "file_extension": ".py",
   "mimetype": "text/x-python",
   "name": "python",
   "nbconvert_exporter": "python",
   "pygments_lexer": "ipython3",
   "version": "3.13.5"
  }
 },
 "nbformat": 4,
 "nbformat_minor": 5
}
